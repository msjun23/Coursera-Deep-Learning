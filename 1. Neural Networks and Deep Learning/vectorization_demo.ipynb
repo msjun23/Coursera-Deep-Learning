{
  "nbformat": 4,
  "nbformat_minor": 0,
  "metadata": {
    "colab": {
      "name": "vectorization_demo.ipynb",
      "provenance": [],
      "authorship_tag": "ABX9TyP3aA8Ag95ftw+EtDGJ/p3/",
      "include_colab_link": true
    },
    "kernelspec": {
      "name": "python3",
      "display_name": "Python 3"
    }
  },
  "cells": [
    {
      "cell_type": "markdown",
      "metadata": {
        "id": "view-in-github",
        "colab_type": "text"
      },
      "source": [
        "<a href=\"https://colab.research.google.com/github/msjun23/Coursera-Deep-Learning/blob/master/1.%20Neural%20Networks%20and%20Deep%20Learning/vectorization_demo.ipynb\" target=\"_parent\"><img src=\"https://colab.research.google.com/assets/colab-badge.svg\" alt=\"Open In Colab\"/></a>"
      ]
    },
    {
      "cell_type": "code",
      "metadata": {
        "id": "Kew27Awhcgvo",
        "colab_type": "code",
        "colab": {
          "base_uri": "https://localhost:8080/",
          "height": 34
        },
        "outputId": "eb3b6fe5-18b3-4fe1-8870-f1f68c88dc7a"
      },
      "source": [
        "import numpy as np\n",
        "\n",
        "a = np.array([1,2,3,4])\n",
        "print(a)"
      ],
      "execution_count": 1,
      "outputs": [
        {
          "output_type": "stream",
          "text": [
            "[1 2 3 4]\n"
          ],
          "name": "stdout"
        }
      ]
    },
    {
      "cell_type": "code",
      "metadata": {
        "id": "JG0sR2XKdBxy",
        "colab_type": "code",
        "colab": {
          "base_uri": "https://localhost:8080/",
          "height": 87
        },
        "outputId": "92b22984-35f0-4899-a249-7bc93eeb2a3d"
      },
      "source": [
        "import time\n",
        "\n",
        "a = np.random.rand(1000000)\n",
        "b = np.random.rand(1000000)\n",
        "\n",
        "tic = time.time()\n",
        "c = np.dot(a,b)\n",
        "toc = time.time()\n",
        "\n",
        "print(c)\n",
        "print(\"Vectorized version: \" + str(1000 * (toc-tic)) + \"ms\")\n",
        "\n",
        "###############################################################\n",
        "\n",
        "c = 0\n",
        "tic = time.time()\n",
        "for i in range(1000000):\n",
        "  c += a[i] * b[i]\n",
        "toc = time.time()\n",
        "print(c)\n",
        "print(\"for loop: \" + str(1000 * (toc-tic)) + \"ms\")"
      ],
      "execution_count": 5,
      "outputs": [
        {
          "output_type": "stream",
          "text": [
            "250040.55145735876\n",
            "Vectorized version: 1.466512680053711ms\n",
            "250040.5514573542\n",
            "for loop: 657.3946475982666ms\n"
          ],
          "name": "stdout"
        }
      ]
    },
    {
      "cell_type": "code",
      "metadata": {
        "id": "xOhRRfaah1-n",
        "colab_type": "code",
        "colab": {}
      },
      "source": [
        ""
      ],
      "execution_count": 5,
      "outputs": []
    }
  ]
}